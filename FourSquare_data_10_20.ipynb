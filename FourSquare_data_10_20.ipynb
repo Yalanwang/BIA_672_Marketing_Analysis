{
 "cells": [
  {
   "cell_type": "code",
   "execution_count": 1,
   "metadata": {
    "collapsed": true
   },
   "outputs": [],
   "source": [
    "### script the data from foursquare\n",
    "\n",
    "from bs4 import BeautifulSoup\n",
    "import re\n",
    "import time\n",
    "import requests"
   ]
  },
  {
   "cell_type": "code",
   "execution_count": 49,
   "metadata": {
    "collapsed": true
   },
   "outputs": [],
   "source": [
    "def run(url):\n",
    "    pageLike = url\n",
    "    fw = open('FourSquareReviews.txt','w')\n",
    "    for i in range(5): # try 5 times\n",
    "        while True:\n",
    "            try:\n",
    "                #use the browser to access the url\n",
    "                response=requests.get(pageLink,headers = { 'User-Agent': 'Mozilla/5.0 (Windows NT 6.1) AppleWebKit/537.36 (KHTML, like Gecko) Chrome/41.0.2228.0 Safari/537.36', })\n",
    "                html=response.content # get the html\n",
    "                break # we got the file, break the loop\n",
    "            except Exception as e:# browser.open() threw an exception, the attempt to get the response failed\n",
    "                print ('failed attempt',i)\n",
    "                time.sleep(2) # wait 2 secs\n",
    "\n",
    "#         if not html:continue # couldnt get the page, ignore\n",
    "        \n",
    "    soup = BeautifulSoup(html.decode('ascii','ignore'),'lxml')\n",
    "    ## find all the reviews! note : use the fuction find_all\n",
    "    reviews = soup.find_all('div',{'class':re.compile('tipContents')})\n",
    "    \n",
    "    for review in reviews:\n",
    "        date, text ='NA', 'NA'\n",
    "        \n",
    "        dateChunk = review.find('span',{'class': re.compile('tipDate')})\n",
    "        if dateChunk: date= dateChunk.text        \n",
    "        \n",
    "\n",
    "        textChunk = review.find('div',{'class': re.compile('tipText')})\n",
    "        if textChunk: text = textChunk.text\n",
    "            \n",
    "            \n",
    "        fw.write(date+'\\t'+text+'\\n')\n",
    "        \n",
    "        time.sleep(2)\n",
    "        \n",
    "    fw.close()\n",
    "\n",
    "    "
   ]
  },
  {
   "cell_type": "code",
   "execution_count": 50,
   "metadata": {},
   "outputs": [],
   "source": [
    "if __name__=='__main__':\n",
    "    url='https://foursquare.com/v/hoboken-gourmet-company/49f4e9e2f964a520726b1fe3'\n",
    "#     url='https://foursquare.com/v/hoboken-gourmet-company'\n",
    "    run(url)"
   ]
  },
  {
   "cell_type": "code",
   "execution_count": null,
   "metadata": {
    "collapsed": true
   },
   "outputs": [],
   "source": []
  }
 ],
 "metadata": {
  "kernelspec": {
   "display_name": "Python 3",
   "language": "python",
   "name": "python3"
  },
  "language_info": {
   "codemirror_mode": {
    "name": "ipython",
    "version": 3
   },
   "file_extension": ".py",
   "mimetype": "text/x-python",
   "name": "python",
   "nbconvert_exporter": "python",
   "pygments_lexer": "ipython3",
   "version": "3.6.1"
  }
 },
 "nbformat": 4,
 "nbformat_minor": 2
}
